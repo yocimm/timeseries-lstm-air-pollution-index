{
 "cells": [
  {
   "cell_type": "code",
   "execution_count": 1,
   "metadata": {},
   "outputs": [],
   "source": [
    "import pandas as pd\n",
    "import numpy as np\n",
    "import matplotlib.pyplot as plt\n",
    "import seaborn as sns\n",
    "import tensorflow as tf\n",
    "from tensorflow.keras.layers import Dense, Dropout"
   ]
  },
  {
   "cell_type": "code",
   "execution_count": 2,
   "metadata": {},
   "outputs": [
    {
     "data": {
      "text/html": [
       "<div>\n",
       "<style scoped>\n",
       "    .dataframe tbody tr th:only-of-type {\n",
       "        vertical-align: middle;\n",
       "    }\n",
       "\n",
       "    .dataframe tbody tr th {\n",
       "        vertical-align: top;\n",
       "    }\n",
       "\n",
       "    .dataframe thead th {\n",
       "        text-align: right;\n",
       "    }\n",
       "</style>\n",
       "<table border=\"1\" class=\"dataframe\">\n",
       "  <thead>\n",
       "    <tr style=\"text-align: right;\">\n",
       "      <th></th>\n",
       "      <th>tanggal</th>\n",
       "      <th>stasiun</th>\n",
       "      <th>pm10</th>\n",
       "      <th>so2</th>\n",
       "      <th>co</th>\n",
       "      <th>o3</th>\n",
       "      <th>no2</th>\n",
       "      <th>max</th>\n",
       "      <th>critical</th>\n",
       "      <th>categori</th>\n",
       "      <th>pm25</th>\n",
       "    </tr>\n",
       "  </thead>\n",
       "  <tbody>\n",
       "    <tr>\n",
       "      <th>0</th>\n",
       "      <td>2020-08-01</td>\n",
       "      <td>DKI1 (Bunderan HI)</td>\n",
       "      <td>65</td>\n",
       "      <td>18</td>\n",
       "      <td>7</td>\n",
       "      <td>84</td>\n",
       "      <td>13</td>\n",
       "      <td>84.0</td>\n",
       "      <td>O3</td>\n",
       "      <td>SEDANG</td>\n",
       "      <td>NaN</td>\n",
       "    </tr>\n",
       "    <tr>\n",
       "      <th>1</th>\n",
       "      <td>2020-08-02</td>\n",
       "      <td>DKI1 (Bunderan HI)</td>\n",
       "      <td>75</td>\n",
       "      <td>17</td>\n",
       "      <td>11</td>\n",
       "      <td>77</td>\n",
       "      <td>15</td>\n",
       "      <td>77.0</td>\n",
       "      <td>O3</td>\n",
       "      <td>SEDANG</td>\n",
       "      <td>NaN</td>\n",
       "    </tr>\n",
       "    <tr>\n",
       "      <th>2</th>\n",
       "      <td>2020-08-03</td>\n",
       "      <td>DKI1 (Bunderan HI)</td>\n",
       "      <td>71</td>\n",
       "      <td>18</td>\n",
       "      <td>9</td>\n",
       "      <td>65</td>\n",
       "      <td>11</td>\n",
       "      <td>71.0</td>\n",
       "      <td>PM10</td>\n",
       "      <td>SEDANG</td>\n",
       "      <td>NaN</td>\n",
       "    </tr>\n",
       "    <tr>\n",
       "      <th>3</th>\n",
       "      <td>2020-08-04</td>\n",
       "      <td>DKI1 (Bunderan HI)</td>\n",
       "      <td>61</td>\n",
       "      <td>19</td>\n",
       "      <td>5</td>\n",
       "      <td>61</td>\n",
       "      <td>11</td>\n",
       "      <td>61.0</td>\n",
       "      <td>PM10</td>\n",
       "      <td>SEDANG</td>\n",
       "      <td>NaN</td>\n",
       "    </tr>\n",
       "    <tr>\n",
       "      <th>4</th>\n",
       "      <td>2020-08-05</td>\n",
       "      <td>DKI1 (Bunderan HI)</td>\n",
       "      <td>67</td>\n",
       "      <td>20</td>\n",
       "      <td>7</td>\n",
       "      <td>70</td>\n",
       "      <td>12</td>\n",
       "      <td>70.0</td>\n",
       "      <td>O3</td>\n",
       "      <td>SEDANG</td>\n",
       "      <td>NaN</td>\n",
       "    </tr>\n",
       "  </tbody>\n",
       "</table>\n",
       "</div>"
      ],
      "text/plain": [
       "      tanggal             stasiun pm10 so2  co  o3 no2   max critical  \\\n",
       "0  2020-08-01  DKI1 (Bunderan HI)   65  18   7  84  13  84.0       O3   \n",
       "1  2020-08-02  DKI1 (Bunderan HI)   75  17  11  77  15  77.0       O3   \n",
       "2  2020-08-03  DKI1 (Bunderan HI)   71  18   9  65  11  71.0     PM10   \n",
       "3  2020-08-04  DKI1 (Bunderan HI)   61  19   5  61  11  61.0     PM10   \n",
       "4  2020-08-05  DKI1 (Bunderan HI)   67  20   7  70  12  70.0       O3   \n",
       "\n",
       "  categori pm25  \n",
       "0   SEDANG  NaN  \n",
       "1   SEDANG  NaN  \n",
       "2   SEDANG  NaN  \n",
       "3   SEDANG  NaN  \n",
       "4   SEDANG  NaN  "
      ]
     },
     "execution_count": 2,
     "metadata": {},
     "output_type": "execute_result"
    }
   ],
   "source": [
    "data = pd.read_csv('C:/Users/My-Asus/Downloads/pencemaran/combined.csv')\n",
    "data.head()"
   ]
  },
  {
   "cell_type": "code",
   "execution_count": 3,
   "metadata": {},
   "outputs": [
    {
     "data": {
      "text/html": [
       "<div>\n",
       "<style scoped>\n",
       "    .dataframe tbody tr th:only-of-type {\n",
       "        vertical-align: middle;\n",
       "    }\n",
       "\n",
       "    .dataframe tbody tr th {\n",
       "        vertical-align: top;\n",
       "    }\n",
       "\n",
       "    .dataframe thead th {\n",
       "        text-align: right;\n",
       "    }\n",
       "</style>\n",
       "<table border=\"1\" class=\"dataframe\">\n",
       "  <thead>\n",
       "    <tr style=\"text-align: right;\">\n",
       "      <th></th>\n",
       "      <th>tanggal</th>\n",
       "      <th>stasiun</th>\n",
       "      <th>pm10</th>\n",
       "      <th>so2</th>\n",
       "      <th>co</th>\n",
       "      <th>o3</th>\n",
       "      <th>no2</th>\n",
       "      <th>max</th>\n",
       "      <th>critical</th>\n",
       "      <th>categori</th>\n",
       "      <th>pm25</th>\n",
       "    </tr>\n",
       "  </thead>\n",
       "  <tbody>\n",
       "    <tr>\n",
       "      <th>3650</th>\n",
       "      <td>2021-09-26</td>\n",
       "      <td>DKI5 (Kebon Jeruk) Jakarta Barat</td>\n",
       "      <td>48</td>\n",
       "      <td>---</td>\n",
       "      <td>4</td>\n",
       "      <td>30</td>\n",
       "      <td>9</td>\n",
       "      <td>67.0</td>\n",
       "      <td>PM25</td>\n",
       "      <td>SEDANG</td>\n",
       "      <td>67</td>\n",
       "    </tr>\n",
       "    <tr>\n",
       "      <th>3651</th>\n",
       "      <td>2021-09-27</td>\n",
       "      <td>DKI5 (Kebon Jeruk) Jakarta Barat</td>\n",
       "      <td>51</td>\n",
       "      <td>---</td>\n",
       "      <td>9</td>\n",
       "      <td>22</td>\n",
       "      <td>18</td>\n",
       "      <td>78.0</td>\n",
       "      <td>PM25</td>\n",
       "      <td>SEDANG</td>\n",
       "      <td>78</td>\n",
       "    </tr>\n",
       "    <tr>\n",
       "      <th>3652</th>\n",
       "      <td>2021-09-28</td>\n",
       "      <td>DKI5 (Kebon Jeruk) Jakarta Barat</td>\n",
       "      <td>42</td>\n",
       "      <td>---</td>\n",
       "      <td>5</td>\n",
       "      <td>26</td>\n",
       "      <td>14</td>\n",
       "      <td>64.0</td>\n",
       "      <td>PM25</td>\n",
       "      <td>SEDANG</td>\n",
       "      <td>64</td>\n",
       "    </tr>\n",
       "    <tr>\n",
       "      <th>3653</th>\n",
       "      <td>2021-09-29</td>\n",
       "      <td>DKI5 (Kebon Jeruk) Jakarta Barat</td>\n",
       "      <td>56</td>\n",
       "      <td>---</td>\n",
       "      <td>11</td>\n",
       "      <td>34</td>\n",
       "      <td>19</td>\n",
       "      <td>87.0</td>\n",
       "      <td>PM25</td>\n",
       "      <td>SEDANG</td>\n",
       "      <td>87</td>\n",
       "    </tr>\n",
       "    <tr>\n",
       "      <th>3654</th>\n",
       "      <td>2021-09-30</td>\n",
       "      <td>DKI5 (Kebon Jeruk) Jakarta Barat</td>\n",
       "      <td>68</td>\n",
       "      <td>---</td>\n",
       "      <td>10</td>\n",
       "      <td>46</td>\n",
       "      <td>13</td>\n",
       "      <td>108.0</td>\n",
       "      <td>PM25</td>\n",
       "      <td>TIDAK SEHAT</td>\n",
       "      <td>108</td>\n",
       "    </tr>\n",
       "  </tbody>\n",
       "</table>\n",
       "</div>"
      ],
      "text/plain": [
       "         tanggal                           stasiun pm10  so2  co  o3 no2  \\\n",
       "3650  2021-09-26  DKI5 (Kebon Jeruk) Jakarta Barat   48  ---   4  30   9   \n",
       "3651  2021-09-27  DKI5 (Kebon Jeruk) Jakarta Barat   51  ---   9  22  18   \n",
       "3652  2021-09-28  DKI5 (Kebon Jeruk) Jakarta Barat   42  ---   5  26  14   \n",
       "3653  2021-09-29  DKI5 (Kebon Jeruk) Jakarta Barat   56  ---  11  34  19   \n",
       "3654  2021-09-30  DKI5 (Kebon Jeruk) Jakarta Barat   68  ---  10  46  13   \n",
       "\n",
       "        max critical     categori pm25  \n",
       "3650   67.0     PM25       SEDANG   67  \n",
       "3651   78.0     PM25       SEDANG   78  \n",
       "3652   64.0     PM25       SEDANG   64  \n",
       "3653   87.0     PM25       SEDANG   87  \n",
       "3654  108.0     PM25  TIDAK SEHAT  108  "
      ]
     },
     "execution_count": 3,
     "metadata": {},
     "output_type": "execute_result"
    }
   ],
   "source": [
    "data.tail()"
   ]
  },
  {
   "cell_type": "code",
   "execution_count": 4,
   "metadata": {},
   "outputs": [
    {
     "name": "stdout",
     "output_type": "stream",
     "text": [
      "(3655, 11)\n"
     ]
    }
   ],
   "source": [
    "print(data.shape)"
   ]
  },
  {
   "cell_type": "code",
   "execution_count": 5,
   "metadata": {},
   "outputs": [
    {
     "name": "stdout",
     "output_type": "stream",
     "text": [
      "<class 'pandas.core.frame.DataFrame'>\n",
      "RangeIndex: 3655 entries, 0 to 3654\n",
      "Data columns (total 11 columns):\n",
      " #   Column    Non-Null Count  Dtype  \n",
      "---  ------    --------------  -----  \n",
      " 0   tanggal   3655 non-null   object \n",
      " 1   stasiun   3655 non-null   object \n",
      " 2   pm10      3655 non-null   object \n",
      " 3   so2       3655 non-null   object \n",
      " 4   co        3655 non-null   object \n",
      " 5   o3        3655 non-null   object \n",
      " 6   no2       3655 non-null   object \n",
      " 7   max       3651 non-null   float64\n",
      " 8   critical  3623 non-null   object \n",
      " 9   categori  3655 non-null   object \n",
      " 10  pm25      1763 non-null   object \n",
      "dtypes: float64(1), object(10)\n",
      "memory usage: 314.2+ KB\n"
     ]
    }
   ],
   "source": [
    "data.info()"
   ]
  },
  {
   "attachments": {},
   "cell_type": "markdown",
   "metadata": {},
   "source": [
    "1. tanggal : Tanggal pengukuran kualitas udara\n",
    "2. stasiun : Lokasi pengukuran di stasiun\n",
    "3. pm10 : Partikulat salah satu parameter yang diukur\n",
    "4. pm25 : Partikulat salah satu parameter yang diukur\n",
    "5. so2 : Sulfida (dalam bentuk SO2) salah satu parameter yang diukur\n",
    "6. co : Carbon Monoksida salah satu parameter yand diukur\n",
    "7. o3 : Ozon salah satu parameter yang diukur\n",
    "8. no2 : NItrogen dioksida salah satu parameter yang diukur\n",
    "9. max : Nilai ukur paling tinggi dari seluruh parameter yang diukur dalam waktu yang sama\n",
    "10. critical : Parameter yang hasil pengukurannya paling tinggi\n",
    "11. categori : Kategori hasil perhitungan indeks standar pencemaran udara"
   ]
  },
  {
   "cell_type": "code",
   "execution_count": 6,
   "metadata": {},
   "outputs": [
    {
     "name": "stdout",
     "output_type": "stream",
     "text": [
      "<class 'pandas.core.frame.DataFrame'>\n",
      "RangeIndex: 3655 entries, 0 to 3654\n",
      "Data columns (total 10 columns):\n",
      " #   Column    Non-Null Count  Dtype  \n",
      "---  ------    --------------  -----  \n",
      " 0   tanggal   3655 non-null   object \n",
      " 1   stasiun   3655 non-null   object \n",
      " 2   pm10      3655 non-null   object \n",
      " 3   so2       3655 non-null   object \n",
      " 4   co        3655 non-null   object \n",
      " 5   o3        3655 non-null   object \n",
      " 6   no2       3655 non-null   object \n",
      " 7   max       3651 non-null   float64\n",
      " 8   critical  3623 non-null   object \n",
      " 9   categori  3655 non-null   object \n",
      "dtypes: float64(1), object(9)\n",
      "memory usage: 285.7+ KB\n"
     ]
    }
   ],
   "source": [
    "#data pm25 hanya sejumlah 1763 dari 3655 data, maka dilakukan penghapusan.\n",
    "data.drop(('pm25'), axis=1, inplace=True)\n",
    "data.info()"
   ]
  },
  {
   "cell_type": "code",
   "execution_count": 7,
   "metadata": {},
   "outputs": [
    {
     "name": "stderr",
     "output_type": "stream",
     "text": [
      "c:\\Users\\My-Asus\\AppData\\Local\\Programs\\Python\\Python310\\lib\\site-packages\\pandas\\core\\tools\\datetimes.py:1047: UserWarning: Parsing '13/11/2020' in DD/MM/YYYY format. Provide format or specify infer_datetime_format=True for consistent parsing.\n",
      "  cache_array = _maybe_cache(arg, format, cache, convert_listlike)\n",
      "c:\\Users\\My-Asus\\AppData\\Local\\Programs\\Python\\Python310\\lib\\site-packages\\pandas\\core\\tools\\datetimes.py:1047: UserWarning: Parsing '14/11/2020' in DD/MM/YYYY format. Provide format or specify infer_datetime_format=True for consistent parsing.\n",
      "  cache_array = _maybe_cache(arg, format, cache, convert_listlike)\n",
      "c:\\Users\\My-Asus\\AppData\\Local\\Programs\\Python\\Python310\\lib\\site-packages\\pandas\\core\\tools\\datetimes.py:1047: UserWarning: Parsing '15/11/2020' in DD/MM/YYYY format. Provide format or specify infer_datetime_format=True for consistent parsing.\n",
      "  cache_array = _maybe_cache(arg, format, cache, convert_listlike)\n",
      "c:\\Users\\My-Asus\\AppData\\Local\\Programs\\Python\\Python310\\lib\\site-packages\\pandas\\core\\tools\\datetimes.py:1047: UserWarning: Parsing '16/11/2020' in DD/MM/YYYY format. Provide format or specify infer_datetime_format=True for consistent parsing.\n",
      "  cache_array = _maybe_cache(arg, format, cache, convert_listlike)\n",
      "c:\\Users\\My-Asus\\AppData\\Local\\Programs\\Python\\Python310\\lib\\site-packages\\pandas\\core\\tools\\datetimes.py:1047: UserWarning: Parsing '17/11/2020' in DD/MM/YYYY format. Provide format or specify infer_datetime_format=True for consistent parsing.\n",
      "  cache_array = _maybe_cache(arg, format, cache, convert_listlike)\n",
      "c:\\Users\\My-Asus\\AppData\\Local\\Programs\\Python\\Python310\\lib\\site-packages\\pandas\\core\\tools\\datetimes.py:1047: UserWarning: Parsing '18/11/2020' in DD/MM/YYYY format. Provide format or specify infer_datetime_format=True for consistent parsing.\n",
      "  cache_array = _maybe_cache(arg, format, cache, convert_listlike)\n",
      "c:\\Users\\My-Asus\\AppData\\Local\\Programs\\Python\\Python310\\lib\\site-packages\\pandas\\core\\tools\\datetimes.py:1047: UserWarning: Parsing '19/11/2020' in DD/MM/YYYY format. Provide format or specify infer_datetime_format=True for consistent parsing.\n",
      "  cache_array = _maybe_cache(arg, format, cache, convert_listlike)\n",
      "c:\\Users\\My-Asus\\AppData\\Local\\Programs\\Python\\Python310\\lib\\site-packages\\pandas\\core\\tools\\datetimes.py:1047: UserWarning: Parsing '20/11/2020' in DD/MM/YYYY format. Provide format or specify infer_datetime_format=True for consistent parsing.\n",
      "  cache_array = _maybe_cache(arg, format, cache, convert_listlike)\n",
      "c:\\Users\\My-Asus\\AppData\\Local\\Programs\\Python\\Python310\\lib\\site-packages\\pandas\\core\\tools\\datetimes.py:1047: UserWarning: Parsing '21/11/2020' in DD/MM/YYYY format. Provide format or specify infer_datetime_format=True for consistent parsing.\n",
      "  cache_array = _maybe_cache(arg, format, cache, convert_listlike)\n",
      "c:\\Users\\My-Asus\\AppData\\Local\\Programs\\Python\\Python310\\lib\\site-packages\\pandas\\core\\tools\\datetimes.py:1047: UserWarning: Parsing '22/11/2020' in DD/MM/YYYY format. Provide format or specify infer_datetime_format=True for consistent parsing.\n",
      "  cache_array = _maybe_cache(arg, format, cache, convert_listlike)\n",
      "c:\\Users\\My-Asus\\AppData\\Local\\Programs\\Python\\Python310\\lib\\site-packages\\pandas\\core\\tools\\datetimes.py:1047: UserWarning: Parsing '23/11/2020' in DD/MM/YYYY format. Provide format or specify infer_datetime_format=True for consistent parsing.\n",
      "  cache_array = _maybe_cache(arg, format, cache, convert_listlike)\n",
      "c:\\Users\\My-Asus\\AppData\\Local\\Programs\\Python\\Python310\\lib\\site-packages\\pandas\\core\\tools\\datetimes.py:1047: UserWarning: Parsing '24/11/2020' in DD/MM/YYYY format. Provide format or specify infer_datetime_format=True for consistent parsing.\n",
      "  cache_array = _maybe_cache(arg, format, cache, convert_listlike)\n",
      "c:\\Users\\My-Asus\\AppData\\Local\\Programs\\Python\\Python310\\lib\\site-packages\\pandas\\core\\tools\\datetimes.py:1047: UserWarning: Parsing '25/11/2020' in DD/MM/YYYY format. Provide format or specify infer_datetime_format=True for consistent parsing.\n",
      "  cache_array = _maybe_cache(arg, format, cache, convert_listlike)\n",
      "c:\\Users\\My-Asus\\AppData\\Local\\Programs\\Python\\Python310\\lib\\site-packages\\pandas\\core\\tools\\datetimes.py:1047: UserWarning: Parsing '26/11/2020' in DD/MM/YYYY format. Provide format or specify infer_datetime_format=True for consistent parsing.\n",
      "  cache_array = _maybe_cache(arg, format, cache, convert_listlike)\n",
      "c:\\Users\\My-Asus\\AppData\\Local\\Programs\\Python\\Python310\\lib\\site-packages\\pandas\\core\\tools\\datetimes.py:1047: UserWarning: Parsing '27/11/2020' in DD/MM/YYYY format. Provide format or specify infer_datetime_format=True for consistent parsing.\n",
      "  cache_array = _maybe_cache(arg, format, cache, convert_listlike)\n",
      "c:\\Users\\My-Asus\\AppData\\Local\\Programs\\Python\\Python310\\lib\\site-packages\\pandas\\core\\tools\\datetimes.py:1047: UserWarning: Parsing '28/11/2020' in DD/MM/YYYY format. Provide format or specify infer_datetime_format=True for consistent parsing.\n",
      "  cache_array = _maybe_cache(arg, format, cache, convert_listlike)\n",
      "c:\\Users\\My-Asus\\AppData\\Local\\Programs\\Python\\Python310\\lib\\site-packages\\pandas\\core\\tools\\datetimes.py:1047: UserWarning: Parsing '29/11/2020' in DD/MM/YYYY format. Provide format or specify infer_datetime_format=True for consistent parsing.\n",
      "  cache_array = _maybe_cache(arg, format, cache, convert_listlike)\n",
      "c:\\Users\\My-Asus\\AppData\\Local\\Programs\\Python\\Python310\\lib\\site-packages\\pandas\\core\\tools\\datetimes.py:1047: UserWarning: Parsing '30/11/2020' in DD/MM/YYYY format. Provide format or specify infer_datetime_format=True for consistent parsing.\n",
      "  cache_array = _maybe_cache(arg, format, cache, convert_listlike)\n"
     ]
    }
   ],
   "source": [
    "# Mengubah format tanggal\n",
    "data['tanggal'] = pd.to_datetime(data['tanggal'])\n",
    "data['tanggal'] = data['tanggal'].dt.strftime('%Y-%m-%d')"
   ]
  },
  {
   "cell_type": "code",
   "execution_count": 8,
   "metadata": {},
   "outputs": [],
   "source": [
    "data['tanggal'] = pd.to_datetime(data['tanggal'])\n",
    "\n",
    "# Sort dataframe berdasarkan tanggal\n",
    "data = data.sort_values('tanggal')"
   ]
  },
  {
   "cell_type": "code",
   "execution_count": 9,
   "metadata": {},
   "outputs": [
    {
     "data": {
      "text/html": [
       "<div>\n",
       "<style scoped>\n",
       "    .dataframe tbody tr th:only-of-type {\n",
       "        vertical-align: middle;\n",
       "    }\n",
       "\n",
       "    .dataframe tbody tr th {\n",
       "        vertical-align: top;\n",
       "    }\n",
       "\n",
       "    .dataframe thead th {\n",
       "        text-align: right;\n",
       "    }\n",
       "</style>\n",
       "<table border=\"1\" class=\"dataframe\">\n",
       "  <thead>\n",
       "    <tr style=\"text-align: right;\">\n",
       "      <th></th>\n",
       "      <th>tanggal</th>\n",
       "      <th>stasiun</th>\n",
       "      <th>pm10</th>\n",
       "      <th>so2</th>\n",
       "      <th>co</th>\n",
       "      <th>o3</th>\n",
       "      <th>no2</th>\n",
       "      <th>max</th>\n",
       "      <th>critical</th>\n",
       "      <th>categori</th>\n",
       "    </tr>\n",
       "  </thead>\n",
       "  <tbody>\n",
       "    <tr>\n",
       "      <th>1205</th>\n",
       "      <td>2020-01-01</td>\n",
       "      <td>DKI1 (Bunderan HI)</td>\n",
       "      <td>30</td>\n",
       "      <td>20</td>\n",
       "      <td>10</td>\n",
       "      <td>32</td>\n",
       "      <td>9</td>\n",
       "      <td>32.0</td>\n",
       "      <td>O3</td>\n",
       "      <td>BAIK</td>\n",
       "    </tr>\n",
       "    <tr>\n",
       "      <th>1236</th>\n",
       "      <td>2020-01-01</td>\n",
       "      <td>DKI2 (Kelapa Gading)</td>\n",
       "      <td>31</td>\n",
       "      <td>7</td>\n",
       "      <td>8</td>\n",
       "      <td>41</td>\n",
       "      <td>5</td>\n",
       "      <td>41.0</td>\n",
       "      <td>O3</td>\n",
       "      <td>BAIK</td>\n",
       "    </tr>\n",
       "    <tr>\n",
       "      <th>1329</th>\n",
       "      <td>2020-01-01</td>\n",
       "      <td>DKI5 (Kebon Jeruk) Jakarta Barat</td>\n",
       "      <td>35</td>\n",
       "      <td>13</td>\n",
       "      <td>18</td>\n",
       "      <td>46</td>\n",
       "      <td>---</td>\n",
       "      <td>46.0</td>\n",
       "      <td>O3</td>\n",
       "      <td>BAIK</td>\n",
       "    </tr>\n",
       "    <tr>\n",
       "      <th>1298</th>\n",
       "      <td>2020-01-01</td>\n",
       "      <td>DKI4 (Lubang Buaya)</td>\n",
       "      <td>33</td>\n",
       "      <td>36</td>\n",
       "      <td>---</td>\n",
       "      <td>36</td>\n",
       "      <td>6</td>\n",
       "      <td>36.0</td>\n",
       "      <td>SO2</td>\n",
       "      <td>BAIK</td>\n",
       "    </tr>\n",
       "    <tr>\n",
       "      <th>1267</th>\n",
       "      <td>2020-01-01</td>\n",
       "      <td>DKI3 (Jagakarsa)</td>\n",
       "      <td>38</td>\n",
       "      <td>11</td>\n",
       "      <td>25</td>\n",
       "      <td>41</td>\n",
       "      <td>---</td>\n",
       "      <td>41.0</td>\n",
       "      <td>O3</td>\n",
       "      <td>BAIK</td>\n",
       "    </tr>\n",
       "  </tbody>\n",
       "</table>\n",
       "</div>"
      ],
      "text/plain": [
       "        tanggal                           stasiun pm10 so2   co  o3  no2  \\\n",
       "1205 2020-01-01                DKI1 (Bunderan HI)   30  20   10  32    9   \n",
       "1236 2020-01-01              DKI2 (Kelapa Gading)   31   7    8  41    5   \n",
       "1329 2020-01-01  DKI5 (Kebon Jeruk) Jakarta Barat   35  13   18  46  ---   \n",
       "1298 2020-01-01               DKI4 (Lubang Buaya)   33  36  ---  36    6   \n",
       "1267 2020-01-01                  DKI3 (Jagakarsa)   38  11   25  41  ---   \n",
       "\n",
       "       max critical categori  \n",
       "1205  32.0       O3     BAIK  \n",
       "1236  41.0       O3     BAIK  \n",
       "1329  46.0       O3     BAIK  \n",
       "1298  36.0      SO2     BAIK  \n",
       "1267  41.0       O3     BAIK  "
      ]
     },
     "execution_count": 9,
     "metadata": {},
     "output_type": "execute_result"
    }
   ],
   "source": [
    "data.head()"
   ]
  },
  {
   "cell_type": "code",
   "execution_count": 10,
   "metadata": {},
   "outputs": [
    {
     "data": {
      "text/html": [
       "<div>\n",
       "<style scoped>\n",
       "    .dataframe tbody tr th:only-of-type {\n",
       "        vertical-align: middle;\n",
       "    }\n",
       "\n",
       "    .dataframe tbody tr th {\n",
       "        vertical-align: top;\n",
       "    }\n",
       "\n",
       "    .dataframe thead th {\n",
       "        text-align: right;\n",
       "    }\n",
       "</style>\n",
       "<table border=\"1\" class=\"dataframe\">\n",
       "  <thead>\n",
       "    <tr style=\"text-align: right;\">\n",
       "      <th></th>\n",
       "      <th>tanggal</th>\n",
       "      <th>stasiun</th>\n",
       "      <th>pm10</th>\n",
       "      <th>so2</th>\n",
       "      <th>co</th>\n",
       "      <th>o3</th>\n",
       "      <th>no2</th>\n",
       "      <th>max</th>\n",
       "      <th>critical</th>\n",
       "      <th>categori</th>\n",
       "    </tr>\n",
       "  </thead>\n",
       "  <tbody>\n",
       "    <tr>\n",
       "      <th>857</th>\n",
       "      <td>2021-12-31</td>\n",
       "      <td>DKI3 (Jagakarsa)</td>\n",
       "      <td>64</td>\n",
       "      <td>21</td>\n",
       "      <td>44</td>\n",
       "      <td>17</td>\n",
       "      <td>---</td>\n",
       "      <td>64.0</td>\n",
       "      <td>PM10</td>\n",
       "      <td>SEDANG</td>\n",
       "    </tr>\n",
       "    <tr>\n",
       "      <th>795</th>\n",
       "      <td>2021-12-31</td>\n",
       "      <td>DKI1 (Bunderan HI)</td>\n",
       "      <td>62</td>\n",
       "      <td>52</td>\n",
       "      <td>23</td>\n",
       "      <td>20</td>\n",
       "      <td>14</td>\n",
       "      <td>85.0</td>\n",
       "      <td>PM25</td>\n",
       "      <td>SEDANG</td>\n",
       "    </tr>\n",
       "    <tr>\n",
       "      <th>826</th>\n",
       "      <td>2021-12-31</td>\n",
       "      <td>DKI2 (Kelapa Gading)</td>\n",
       "      <td>61</td>\n",
       "      <td>33</td>\n",
       "      <td>23</td>\n",
       "      <td>37</td>\n",
       "      <td>44</td>\n",
       "      <td>85.0</td>\n",
       "      <td>PM25</td>\n",
       "      <td>SEDANG</td>\n",
       "    </tr>\n",
       "    <tr>\n",
       "      <th>919</th>\n",
       "      <td>2021-12-31</td>\n",
       "      <td>DKI5 (Kebon Jeruk) Jakarta Barat</td>\n",
       "      <td>60</td>\n",
       "      <td>28</td>\n",
       "      <td>19</td>\n",
       "      <td>30</td>\n",
       "      <td>53</td>\n",
       "      <td>87.0</td>\n",
       "      <td>PM25</td>\n",
       "      <td>SEDANG</td>\n",
       "    </tr>\n",
       "    <tr>\n",
       "      <th>888</th>\n",
       "      <td>2021-12-31</td>\n",
       "      <td>DKI4 (Lubang Buaya)</td>\n",
       "      <td>58</td>\n",
       "      <td>36</td>\n",
       "      <td>21</td>\n",
       "      <td>---</td>\n",
       "      <td>22</td>\n",
       "      <td>90.0</td>\n",
       "      <td>PM25</td>\n",
       "      <td>SEDANG</td>\n",
       "    </tr>\n",
       "  </tbody>\n",
       "</table>\n",
       "</div>"
      ],
      "text/plain": [
       "       tanggal                           stasiun pm10 so2  co   o3  no2   max  \\\n",
       "857 2021-12-31                  DKI3 (Jagakarsa)   64  21  44   17  ---  64.0   \n",
       "795 2021-12-31                DKI1 (Bunderan HI)   62  52  23   20   14  85.0   \n",
       "826 2021-12-31              DKI2 (Kelapa Gading)   61  33  23   37   44  85.0   \n",
       "919 2021-12-31  DKI5 (Kebon Jeruk) Jakarta Barat   60  28  19   30   53  87.0   \n",
       "888 2021-12-31               DKI4 (Lubang Buaya)   58  36  21  ---   22  90.0   \n",
       "\n",
       "    critical categori  \n",
       "857     PM10   SEDANG  \n",
       "795     PM25   SEDANG  \n",
       "826     PM25   SEDANG  \n",
       "919     PM25   SEDANG  \n",
       "888     PM25   SEDANG  "
      ]
     },
     "execution_count": 10,
     "metadata": {},
     "output_type": "execute_result"
    }
   ],
   "source": [
    "data.tail()"
   ]
  },
  {
   "attachments": {},
   "cell_type": "markdown",
   "metadata": {},
   "source": [
    "data berawalan dari 2020-01-01 dan berakhir di 2021-12-31"
   ]
  },
  {
   "cell_type": "code",
   "execution_count": 11,
   "metadata": {},
   "outputs": [
    {
     "data": {
      "image/png": "[encoded data removed]",
      "text/plain": [
       "<Figure size 1080x720 with 1 Axes>"
      ]
     },
     "metadata": {
      "needs_background": "light"
     },
     "output_type": "display_data"
    }
   ],
   "source": [
    "plt.figure(figsize=(15, 10))\n",
    "ax = sns.countplot(x='critical', data=data)\n",
    "\n",
    "# Tambahkan jumlah data di atas setiap bar\n",
    "for p in ax.patches:\n",
    "    ax.annotate(format(p.get_height()), (p.get_x() + p.get_width() / 2., p.get_height()), \n",
    "                ha = 'center', va = 'center', xytext = (0, 10), textcoords = 'offset points')\n",
    "\n",
    "plt.show()"
   ]
  },
  {
   "cell_type": "code",
   "execution_count": 12,
   "metadata": {},
   "outputs": [
    {
     "data": {
      "image/png": "[encoded data removed]",
      "text/plain": [
       "<Figure size 1080x720 with 1 Axes>"
      ]
     },
     "metadata": {
      "needs_background": "light"
     },
     "output_type": "display_data"
    }
   ],
   "source": [
    "plt.figure(figsize=(15, 10))\n",
    "ax = sns.countplot(x='categori', data=data)\n",
    "\n",
    "# Tambahkan jumlah data di atas setiap bar\n",
    "for p in ax.patches:\n",
    "    ax.annotate(format(p.get_height()), (p.get_x() + p.get_width() / 2., p.get_height()), \n",
    "                ha = 'center', va = 'center', xytext = (0, 10), textcoords = 'offset points')\n",
    "\n",
    "plt.show()\n"
   ]
  },
  {
   "cell_type": "code",
   "execution_count": 13,
   "metadata": {},
   "outputs": [],
   "source": [
    "data['categori'] = data['categori'].replace(\"TIDAK ADA DATA\", np.nan)"
   ]
  },
  {
   "cell_type": "code",
   "execution_count": 14,
   "metadata": {},
   "outputs": [
    {
     "data": {
      "text/plain": [
       "DKI1 (Bunderan HI)                  700\n",
       "DKI5 (Kebon Jeruk) Jakarta Barat    700\n",
       "DKI4 (Lubang Buaya)                 700\n",
       "DKI3 (Jagakarsa)                    700\n",
       "DKI2 (Kelapa Gading)                700\n",
       "43                                   10\n",
       "34                                    8\n",
       "40                                    8\n",
       "54                                    8\n",
       "44                                    7\n",
       "50                                    6\n",
       "45                                    6\n",
       "51                                    6\n",
       "48                                    5\n",
       "56                                    5\n",
       "53                                    5\n",
       "65                                    4\n",
       "59                                    4\n",
       "62                                    4\n",
       "58                                    4\n",
       "35                                    3\n",
       "---                                   3\n",
       "32                                    3\n",
       "38                                    3\n",
       "39                                    3\n",
       "49                                    3\n",
       "47                                    3\n",
       "52                                    3\n",
       "42                                    3\n",
       "69                                    2\n",
       "27                                    2\n",
       "78                                    2\n",
       "74                                    2\n",
       "30                                    2\n",
       "37                                    2\n",
       "66                                    2\n",
       "36                                    2\n",
       "33                                    2\n",
       "70                                    2\n",
       "55                                    2\n",
       "71                                    2\n",
       "22                                    2\n",
       "61                                    1\n",
       "63                                    1\n",
       "76                                    1\n",
       "73                                    1\n",
       "41                                    1\n",
       "57                                    1\n",
       "25                                    1\n",
       "101                                   1\n",
       "64                                    1\n",
       "89                                    1\n",
       "24                                    1\n",
       "60                                    1\n",
       "Name: stasiun, dtype: int64"
      ]
     },
     "execution_count": 14,
     "metadata": {},
     "output_type": "execute_result"
    }
   ],
   "source": [
    "#melihat jumlah data berdasarkan stasiun\n",
    "data['stasiun'].value_counts()"
   ]
  },
  {
   "cell_type": "code",
   "execution_count": 15,
   "metadata": {},
   "outputs": [
    {
     "name": "stdout",
     "output_type": "stream",
     "text": [
      "        tanggal stasiun pm10  so2   co   o3 no2  max critical categori\n",
      "2197 2020-03-11     ---  ---  ---  ---  ---   0  NaN      NaN      NaN\n",
      "2229 2020-03-12     ---  ---  ---  ---  ---   0  NaN      NaN      NaN\n",
      "2248 2020-03-31     ---  ---  ---  ---  ---   0  NaN      NaN      NaN\n"
     ]
    }
   ],
   "source": [
    "filtered_data = data[data['stasiun'].str.contains('---', na=False)]\n",
    "print(filtered_data)"
   ]
  },
  {
   "attachments": {},
   "cell_type": "markdown",
   "metadata": {},
   "source": [
    "terdapat 3 missing value (---), baris akan dihapus"
   ]
  },
  {
   "cell_type": "code",
   "execution_count": 16,
   "metadata": {},
   "outputs": [],
   "source": [
    "data = data.loc[data['stasiun'] != '---']"
   ]
  },
  {
   "cell_type": "code",
   "execution_count": 17,
   "metadata": {},
   "outputs": [
    {
     "name": "stdout",
     "output_type": "stream",
     "text": [
      "Empty DataFrame\n",
      "Columns: [tanggal, stasiun, pm10, so2, co, o3, no2, max, critical, categori]\n",
      "Index: []\n"
     ]
    }
   ],
   "source": [
    "filtered_data2 = data[data['stasiun'].str.contains('---', na=False)]\n",
    "print(filtered_data2)"
   ]
  },
  {
   "cell_type": "code",
   "execution_count": 18,
   "metadata": {},
   "outputs": [
    {
     "data": {
      "text/plain": [
       "tanggal      0\n",
       "stasiun      0\n",
       "pm10         0\n",
       "so2          0\n",
       "co           0\n",
       "o3           0\n",
       "no2          0\n",
       "max          1\n",
       "critical    29\n",
       "categori    29\n",
       "dtype: int64"
      ]
     },
     "execution_count": 18,
     "metadata": {},
     "output_type": "execute_result"
    }
   ],
   "source": [
    "#mengecek missing value lainnya\n",
    "data.isnull().sum()"
   ]
  },
  {
   "attachments": {},
   "cell_type": "markdown",
   "metadata": {},
   "source": [
    "terdapat missing value pada kolim max, critical, dan categori"
   ]
  },
  {
   "cell_type": "code",
   "execution_count": 19,
   "metadata": {},
   "outputs": [
    {
     "name": "stdout",
     "output_type": "stream",
     "text": [
      "        tanggal                           stasiun pm10  so2   co   o3  no2  \\\n",
      "1013 2020-02-07               DKI4 (Lubang Buaya)  ---  ---  ---  ---  ---   \n",
      "962  2020-02-14              DKI2 (Kelapa Gading)  ---  ---  ---  ---  ---   \n",
      "2558 2020-05-31               DKI4 (Lubang Buaya)  ---  ---  ---  ---  ---   \n",
      "1924 2020-06-06               DKI4 (Lubang Buaya)  ---  ---  ---  ---  ---   \n",
      "1627 2020-07-20               DKI4 (Lubang Buaya)  ---  ---  ---  ---  ---   \n",
      "93   2020-08-01               DKI4 (Lubang Buaya)  ---  ---  ---  ---  ---   \n",
      "3468 2020-09-24               DKI4 (Lubang Buaya)  ---  ---  ---  ---  ---   \n",
      "3413 2020-09-29              DKI2 (Kelapa Gading)  ---  ---  ---  ---  ---   \n",
      "3474 2020-09-30               DKI4 (Lubang Buaya)  ---  ---  ---  ---  ---   \n",
      "3149 2020-10-12               DKI4 (Lubang Buaya)  ---  ---  ---  ---    0   \n",
      "3096 2020-10-21              DKI2 (Kelapa Gading)  ---  ---  ---  ---  ---   \n",
      "684  2020-12-13                  DKI3 (Jagakarsa)  ---  ---  ---  ---  ---   \n",
      "685  2020-12-14                  DKI3 (Jagakarsa)  ---  ---  ---  ---  ---   \n",
      "1476 2021-01-24               DKI4 (Lubang Buaya)  ---  ---  ---  ---  ---   \n",
      "1477 2021-01-25               DKI4 (Lubang Buaya)  ---  ---  ---  ---  ---   \n",
      "1149 2021-02-01               DKI4 (Lubang Buaya)  ---  ---  ---  ---  ---   \n",
      "1144 2021-02-24                  DKI3 (Jagakarsa)  ---  ---  ---  ---  ---   \n",
      "2407 2021-03-04  DKI5 (Kebon Jeruk) Jakarta Barat  ---  ---  ---  ---  ---   \n",
      "506  2021-04-17              DKI2 (Kelapa Gading)  ---  ---  ---  ---  ---   \n",
      "507  2021-04-18              DKI2 (Kelapa Gading)  ---  ---  ---  ---  ---   \n",
      "1774 2021-07-12               DKI4 (Lubang Buaya)  ---  ---  ---  ---  ---   \n",
      "3613 2021-09-19               DKI4 (Lubang Buaya)  ---  ---  ---  ---  ---   \n",
      "3614 2021-09-20               DKI4 (Lubang Buaya)  ---  ---  ---  ---  ---   \n",
      "3297 2021-10-05               DKI4 (Lubang Buaya)  ---  ---  ---  ---  ---   \n",
      "3269 2021-10-08                  DKI3 (Jagakarsa)  ---  ---  ---  ---  ---   \n",
      "2985 2021-11-01               DKI4 (Lubang Buaya)  ---  ---  ---  ---  ---   \n",
      "869  2021-12-12               DKI4 (Lubang Buaya)  ---  ---  ---  ---  ---   \n",
      "870  2021-12-13               DKI4 (Lubang Buaya)  ---  ---  ---  ---  ---   \n",
      "811  2021-12-16              DKI2 (Kelapa Gading)  ---  ---  ---  ---  ---   \n",
      "\n",
      "      max critical categori  \n",
      "1013  0.0      NaN      NaN  \n",
      "962   0.0      NaN      NaN  \n",
      "2558  0.0      NaN      NaN  \n",
      "1924  0.0      NaN      NaN  \n",
      "1627  0.0      NaN      NaN  \n",
      "93    0.0      NaN      NaN  \n",
      "3468  0.0      NaN      NaN  \n",
      "3413  0.0      NaN      NaN  \n",
      "3474  0.0      NaN      NaN  \n",
      "3149  NaN      NaN      NaN  \n",
      "3096  0.0      NaN      NaN  \n",
      "684   0.0      NaN      NaN  \n",
      "685   0.0      NaN      NaN  \n",
      "1476  0.0      NaN      NaN  \n",
      "1477  0.0      NaN      NaN  \n",
      "1149  0.0      NaN      NaN  \n",
      "1144  0.0      NaN      NaN  \n",
      "2407  0.0      NaN      NaN  \n",
      "506   0.0      NaN      NaN  \n",
      "507   0.0      NaN      NaN  \n",
      "1774  0.0      NaN      NaN  \n",
      "3613  0.0      NaN      NaN  \n",
      "3614  0.0      NaN      NaN  \n",
      "3297  0.0      NaN      NaN  \n",
      "3269  0.0      NaN      NaN  \n",
      "2985  0.0      NaN      NaN  \n",
      "869   0.0      NaN      NaN  \n",
      "870   0.0      NaN      NaN  \n",
      "811   0.0      NaN      NaN  \n"
     ]
    }
   ],
   "source": [
    "missing_data = data[data['categori'].isnull() | data['critical'].isnull()]\n",
    "print(missing_data)"
   ]
  },
  {
   "attachments": {},
   "cell_type": "markdown",
   "metadata": {},
   "source": [
    "baris dengan missing value pada kolom critical dan categori adalah baris yang sama sehingga dilakukan penghapusan baris."
   ]
  },
  {
   "cell_type": "code",
   "execution_count": 20,
   "metadata": {},
   "outputs": [],
   "source": [
    "# Menghapus baris yang mengandung nilai hilang di kolom 'kategori' dan 'critical'\n",
    "data = data.dropna(subset=['categori', 'critical'])"
   ]
  },
  {
   "cell_type": "code",
   "execution_count": 21,
   "metadata": {},
   "outputs": [],
   "source": [
    "# Imputasi max menggunakan interpolasi\n",
    "data['max'] = data['max'].interpolate()"
   ]
  },
  {
   "cell_type": "code",
   "execution_count": 22,
   "metadata": {},
   "outputs": [
    {
     "data": {
      "text/plain": [
       "tanggal     0\n",
       "stasiun     0\n",
       "pm10        0\n",
       "so2         0\n",
       "co          0\n",
       "o3          0\n",
       "no2         0\n",
       "max         0\n",
       "critical    0\n",
       "categori    0\n",
       "dtype: int64"
      ]
     },
     "execution_count": 22,
     "metadata": {},
     "output_type": "execute_result"
    }
   ],
   "source": [
    "#mengecek missing value\n",
    "data.isnull().sum()"
   ]
  },
  {
   "cell_type": "code",
   "execution_count": 23,
   "metadata": {},
   "outputs": [
    {
     "name": "stdout",
     "output_type": "stream",
     "text": [
      "(3623, 10)\n"
     ]
    }
   ],
   "source": [
    "print(data.shape)"
   ]
  },
  {
   "attachments": {},
   "cell_type": "markdown",
   "metadata": {},
   "source": [
    "setelah dilakukan penanganan pada missing value data tersisa 3623 rows"
   ]
  },
  {
   "attachments": {},
   "cell_type": "markdown",
   "metadata": {},
   "source": [
    "melihat kualitas udara di 5 stasiun dengan jumlah data terbanyak yaitu di\n",
    "DKI1 (Bunderan HI), DKI5 (Kebon Jeruk) Jakarta Barat, DKI4 (Lubang Buaya), DKI3 (Jagakarsa), DKI2 (Kelapa Gading)"
   ]
  },
  {
   "cell_type": "code",
   "execution_count": 24,
   "metadata": {},
   "outputs": [
    {
     "data": {
      "image/png": "[encoded data removed]",
      "text/plain": [
       "<Figure size 1296x432 with 1 Axes>"
      ]
     },
     "metadata": {
      "needs_background": "light"
     },
     "output_type": "display_data"
    }
   ],
   "source": [
    "# Daftar stasiun yang ingin ditampilkan\n",
    "selected_stations = [\"DKI1 (Bunderan HI)\", \"DKI5 (Kebon Jeruk) Jakarta Barat\", \"DKI4 (Lubang Buaya)\", \"DKI3 (Jagakarsa)\", \"DKI2 (Kelapa Gading)\"]\n",
    "\n",
    "# Filter data untuk hanya menampilkan stasiun tertentu\n",
    "filtered_data = data[data['stasiun'].isin(selected_stations)]\n",
    "\n",
    "# Membuat catplot\n",
    "catplot = sns.catplot(x='stasiun', hue='categori', kind='count', data=filtered_data)\n",
    "catplot.fig.set_size_inches(18, 6)\n",
    "\n",
    "# Menambahkan jumlah di atas setiap bar\n",
    "for ax in catplot.axes.flat:\n",
    "    for bar in ax.patches:\n",
    "        ax.text(\n",
    "            bar.get_x() + bar.get_width() / 2, \n",
    "            bar.get_height() + 2, \n",
    "            round(bar.get_height(), 2), \n",
    "            ha='center', \n",
    "            va='bottom'\n",
    "        )\n",
    "\n",
    "plt.title('Persebaran Kategori Kualitas Udara di 5 Stasiun')\n",
    "plt.show()\n"
   ]
  },
  {
   "cell_type": "code",
   "execution_count": 26,
   "metadata": {},
   "outputs": [
    {
     "name": "stdout",
     "output_type": "stream",
     "text": [
      "{'categori': {'BAIK': 0,\n",
      "              'SANGAT TIDAK SEHAT': 1,\n",
      "              'SEDANG': 2,\n",
      "              'TIDAK SEHAT': 3},\n",
      " 'critical': {'CO': 0, 'NO2': 1, 'O3': 2, 'PM10': 3, 'PM25': 4, 'SO2': 5},\n",
      " 'stasiun': {'101': 0,\n",
      "             '22': 1,\n",
      "             '24': 2,\n",
      "             '25': 3,\n",
      "             '27': 4,\n",
      "             '30': 5,\n",
      "             '32': 6,\n",
      "             '33': 7,\n",
      "             '34': 8,\n",
      "             '35': 9,\n",
      "             '36': 10,\n",
      "             '37': 11,\n",
      "             '38': 12,\n",
      "             '39': 13,\n",
      "             '40': 14,\n",
      "             '41': 15,\n",
      "             '42': 16,\n",
      "             '43': 17,\n",
      "             '44': 18,\n",
      "             '45': 19,\n",
      "             '47': 20,\n",
      "             '48': 21,\n",
      "             '49': 22,\n",
      "             '50': 23,\n",
      "             '51': 24,\n",
      "             '52': 25,\n",
      "             '53': 26,\n",
      "             '54': 27,\n",
      "             '55': 28,\n",
      "             '56': 29,\n",
      "             '57': 30,\n",
      "             '58': 31,\n",
      "             '59': 32,\n",
      "             '60': 33,\n",
      "             '61': 34,\n",
      "             '62': 35,\n",
      "             '63': 36,\n",
      "             '64': 37,\n",
      "             '65': 38,\n",
      "             '66': 39,\n",
      "             '69': 40,\n",
      "             '70': 41,\n",
      "             '71': 42,\n",
      "             '73': 43,\n",
      "             '74': 44,\n",
      "             '76': 45,\n",
      "             '78': 46,\n",
      "             '89': 47,\n",
      "             'DKI1 (Bunderan HI)': 48,\n",
      "             'DKI2 (Kelapa Gading)': 49,\n",
      "             'DKI3 (Jagakarsa)': 50,\n",
      "             'DKI4 (Lubang Buaya)': 51,\n",
      "             'DKI5 (Kebon Jeruk) Jakarta Barat': 52}}\n"
     ]
    }
   ],
   "source": [
    "from sklearn import preprocessing\n",
    "le = preprocessing.LabelEncoder()\n",
    "from pprint import pprint\n",
    "\n",
    "# Dictionary untuk menyimpan pemetaan label\n",
    "label_mappings = {}\n",
    "\n",
    "for column in ['stasiun', 'critical', 'categori']:\n",
    "    # Fit dan transform data\n",
    "    data[column] = le.fit_transform(data[column])\n",
    "\n",
    "    # Menyimpan pemetaan label\n",
    "    label_mappings[column] = dict(zip(le.classes_, range(len(le.classes_))))\n",
    "\n",
    "pprint(label_mappings)"
   ]
  },
  {
   "cell_type": "code",
   "execution_count": 27,
   "metadata": {},
   "outputs": [
    {
     "name": "stdout",
     "output_type": "stream",
     "text": [
      "{'BAIK': 0, 'SANGAT TIDAK SEHAT': 1, 'SEDANG': 2, 'TIDAK SEHAT': 3}\n"
     ]
    }
   ],
   "source": [
    "label_mapping = dict(zip(le.classes_, range(len(le.classes_))))\n",
    "print(label_mapping)"
   ]
  },
  {
   "cell_type": "code",
   "execution_count": 28,
   "metadata": {},
   "outputs": [
    {
     "name": "stdout",
     "output_type": "stream",
     "text": [
      "<class 'pandas.core.frame.DataFrame'>\n",
      "Int64Index: 3623 entries, 1205 to 888\n",
      "Data columns (total 10 columns):\n",
      " #   Column    Non-Null Count  Dtype         \n",
      "---  ------    --------------  -----         \n",
      " 0   tanggal   3623 non-null   datetime64[ns]\n",
      " 1   stasiun   3623 non-null   int32         \n",
      " 2   pm10      3623 non-null   object        \n",
      " 3   so2       3623 non-null   object        \n",
      " 4   co        3623 non-null   object        \n",
      " 5   o3        3623 non-null   object        \n",
      " 6   no2       3623 non-null   object        \n",
      " 7   max       3623 non-null   float64       \n",
      " 8   critical  3623 non-null   int32         \n",
      " 9   categori  3623 non-null   int32         \n",
      "dtypes: datetime64[ns](1), float64(1), int32(3), object(5)\n",
      "memory usage: 268.9+ KB\n"
     ]
    }
   ],
   "source": [
    "data.info()"
   ]
  },
  {
   "cell_type": "code",
   "execution_count": 29,
   "metadata": {},
   "outputs": [
    {
     "name": "stdout",
     "output_type": "stream",
     "text": [
      "['pm10', 'so2', 'co', 'o3', 'no2']\n"
     ]
    }
   ],
   "source": [
    "columns_with_dash = [col for col in data.columns if (data[col] == '---').any()]\n",
    "print(columns_with_dash)"
   ]
  },
  {
   "cell_type": "code",
   "execution_count": 30,
   "metadata": {},
   "outputs": [],
   "source": [
    "# Mengganti '---' dengan NaN\n",
    "data = data.replace('---', np.nan)\n",
    "\n",
    "# Mengisi NaN dengan mean\n",
    "for kolom in ['pm10', 'so2', 'co', 'o3', 'no2']:\n",
    "    data[kolom] = data[kolom].astype(float).fillna(data[kolom].astype(float).mean())"
   ]
  },
  {
   "cell_type": "code",
   "execution_count": 31,
   "metadata": {},
   "outputs": [
    {
     "name": "stdout",
     "output_type": "stream",
     "text": [
      "[]\n"
     ]
    }
   ],
   "source": [
    "columns_with_dash2 = [col for col in data.columns if (data[col] == '---').any()]\n",
    "print(columns_with_dash2)"
   ]
  },
  {
   "cell_type": "code",
   "execution_count": 32,
   "metadata": {},
   "outputs": [
    {
     "name": "stdout",
     "output_type": "stream",
     "text": [
      "<class 'pandas.core.frame.DataFrame'>\n",
      "Int64Index: 3623 entries, 1205 to 888\n",
      "Data columns (total 10 columns):\n",
      " #   Column    Non-Null Count  Dtype         \n",
      "---  ------    --------------  -----         \n",
      " 0   tanggal   3623 non-null   datetime64[ns]\n",
      " 1   stasiun   3623 non-null   int32         \n",
      " 2   pm10      3623 non-null   float64       \n",
      " 3   so2       3623 non-null   float64       \n",
      " 4   co        3623 non-null   float64       \n",
      " 5   o3        3623 non-null   float64       \n",
      " 6   no2       3623 non-null   float64       \n",
      " 7   max       3623 non-null   float64       \n",
      " 8   critical  3623 non-null   int32         \n",
      " 9   categori  3623 non-null   int32         \n",
      "dtypes: datetime64[ns](1), float64(6), int32(3)\n",
      "memory usage: 268.9 KB\n"
     ]
    }
   ],
   "source": [
    "data.info()"
   ]
  },
  {
   "cell_type": "code",
   "execution_count": 33,
   "metadata": {},
   "outputs": [
    {
     "data": {
      "text/html": [
       "<div>\n",
       "<style scoped>\n",
       "    .dataframe tbody tr th:only-of-type {\n",
       "        vertical-align: middle;\n",
       "    }\n",
       "\n",
       "    .dataframe tbody tr th {\n",
       "        vertical-align: top;\n",
       "    }\n",
       "\n",
       "    .dataframe thead th {\n",
       "        text-align: right;\n",
       "    }\n",
       "</style>\n",
       "<table border=\"1\" class=\"dataframe\">\n",
       "  <thead>\n",
       "    <tr style=\"text-align: right;\">\n",
       "      <th></th>\n",
       "      <th>tanggal</th>\n",
       "      <th>stasiun</th>\n",
       "      <th>pm10</th>\n",
       "      <th>so2</th>\n",
       "      <th>co</th>\n",
       "      <th>o3</th>\n",
       "      <th>no2</th>\n",
       "      <th>max</th>\n",
       "      <th>critical</th>\n",
       "      <th>categori</th>\n",
       "    </tr>\n",
       "  </thead>\n",
       "  <tbody>\n",
       "    <tr>\n",
       "      <th>1205</th>\n",
       "      <td>2020-01-01</td>\n",
       "      <td>48</td>\n",
       "      <td>30.0</td>\n",
       "      <td>20.0</td>\n",
       "      <td>10.000000</td>\n",
       "      <td>32.0</td>\n",
       "      <td>9.000000</td>\n",
       "      <td>32.0</td>\n",
       "      <td>2</td>\n",
       "      <td>0</td>\n",
       "    </tr>\n",
       "    <tr>\n",
       "      <th>1236</th>\n",
       "      <td>2020-01-01</td>\n",
       "      <td>49</td>\n",
       "      <td>31.0</td>\n",
       "      <td>7.0</td>\n",
       "      <td>8.000000</td>\n",
       "      <td>41.0</td>\n",
       "      <td>5.000000</td>\n",
       "      <td>41.0</td>\n",
       "      <td>2</td>\n",
       "      <td>0</td>\n",
       "    </tr>\n",
       "    <tr>\n",
       "      <th>1329</th>\n",
       "      <td>2020-01-01</td>\n",
       "      <td>52</td>\n",
       "      <td>35.0</td>\n",
       "      <td>13.0</td>\n",
       "      <td>18.000000</td>\n",
       "      <td>46.0</td>\n",
       "      <td>19.537318</td>\n",
       "      <td>46.0</td>\n",
       "      <td>2</td>\n",
       "      <td>0</td>\n",
       "    </tr>\n",
       "    <tr>\n",
       "      <th>1298</th>\n",
       "      <td>2020-01-01</td>\n",
       "      <td>51</td>\n",
       "      <td>33.0</td>\n",
       "      <td>36.0</td>\n",
       "      <td>17.116188</td>\n",
       "      <td>36.0</td>\n",
       "      <td>6.000000</td>\n",
       "      <td>36.0</td>\n",
       "      <td>5</td>\n",
       "      <td>0</td>\n",
       "    </tr>\n",
       "    <tr>\n",
       "      <th>1267</th>\n",
       "      <td>2020-01-01</td>\n",
       "      <td>50</td>\n",
       "      <td>38.0</td>\n",
       "      <td>11.0</td>\n",
       "      <td>25.000000</td>\n",
       "      <td>41.0</td>\n",
       "      <td>19.537318</td>\n",
       "      <td>41.0</td>\n",
       "      <td>2</td>\n",
       "      <td>0</td>\n",
       "    </tr>\n",
       "  </tbody>\n",
       "</table>\n",
       "</div>"
      ],
      "text/plain": [
       "        tanggal  stasiun  pm10   so2         co    o3        no2   max  \\\n",
       "1205 2020-01-01       48  30.0  20.0  10.000000  32.0   9.000000  32.0   \n",
       "1236 2020-01-01       49  31.0   7.0   8.000000  41.0   5.000000  41.0   \n",
       "1329 2020-01-01       52  35.0  13.0  18.000000  46.0  19.537318  46.0   \n",
       "1298 2020-01-01       51  33.0  36.0  17.116188  36.0   6.000000  36.0   \n",
       "1267 2020-01-01       50  38.0  11.0  25.000000  41.0  19.537318  41.0   \n",
       "\n",
       "      critical  categori  \n",
       "1205         2         0  \n",
       "1236         2         0  \n",
       "1329         2         0  \n",
       "1298         5         0  \n",
       "1267         2         0  "
      ]
     },
     "execution_count": 33,
     "metadata": {},
     "output_type": "execute_result"
    }
   ],
   "source": [
    "data.head()"
   ]
  },
  {
   "cell_type": "code",
   "execution_count": 34,
   "metadata": {},
   "outputs": [
    {
     "data": {
      "text/html": [
       "<div>\n",
       "<style scoped>\n",
       "    .dataframe tbody tr th:only-of-type {\n",
       "        vertical-align: middle;\n",
       "    }\n",
       "\n",
       "    .dataframe tbody tr th {\n",
       "        vertical-align: top;\n",
       "    }\n",
       "\n",
       "    .dataframe thead th {\n",
       "        text-align: right;\n",
       "    }\n",
       "</style>\n",
       "<table border=\"1\" class=\"dataframe\">\n",
       "  <thead>\n",
       "    <tr style=\"text-align: right;\">\n",
       "      <th></th>\n",
       "      <th>tanggal</th>\n",
       "      <th>stasiun</th>\n",
       "      <th>pm10</th>\n",
       "      <th>so2</th>\n",
       "      <th>co</th>\n",
       "      <th>o3</th>\n",
       "      <th>no2</th>\n",
       "      <th>max</th>\n",
       "      <th>critical</th>\n",
       "      <th>categori</th>\n",
       "    </tr>\n",
       "  </thead>\n",
       "  <tbody>\n",
       "    <tr>\n",
       "      <th>857</th>\n",
       "      <td>2021-12-31</td>\n",
       "      <td>50</td>\n",
       "      <td>64.0</td>\n",
       "      <td>21.0</td>\n",
       "      <td>44.0</td>\n",
       "      <td>17.00000</td>\n",
       "      <td>19.537318</td>\n",
       "      <td>64.0</td>\n",
       "      <td>3</td>\n",
       "      <td>2</td>\n",
       "    </tr>\n",
       "    <tr>\n",
       "      <th>795</th>\n",
       "      <td>2021-12-31</td>\n",
       "      <td>48</td>\n",
       "      <td>62.0</td>\n",
       "      <td>52.0</td>\n",
       "      <td>23.0</td>\n",
       "      <td>20.00000</td>\n",
       "      <td>14.000000</td>\n",
       "      <td>85.0</td>\n",
       "      <td>4</td>\n",
       "      <td>2</td>\n",
       "    </tr>\n",
       "    <tr>\n",
       "      <th>826</th>\n",
       "      <td>2021-12-31</td>\n",
       "      <td>49</td>\n",
       "      <td>61.0</td>\n",
       "      <td>33.0</td>\n",
       "      <td>23.0</td>\n",
       "      <td>37.00000</td>\n",
       "      <td>44.000000</td>\n",
       "      <td>85.0</td>\n",
       "      <td>4</td>\n",
       "      <td>2</td>\n",
       "    </tr>\n",
       "    <tr>\n",
       "      <th>919</th>\n",
       "      <td>2021-12-31</td>\n",
       "      <td>52</td>\n",
       "      <td>60.0</td>\n",
       "      <td>28.0</td>\n",
       "      <td>19.0</td>\n",
       "      <td>30.00000</td>\n",
       "      <td>53.000000</td>\n",
       "      <td>87.0</td>\n",
       "      <td>4</td>\n",
       "      <td>2</td>\n",
       "    </tr>\n",
       "    <tr>\n",
       "      <th>888</th>\n",
       "      <td>2021-12-31</td>\n",
       "      <td>51</td>\n",
       "      <td>58.0</td>\n",
       "      <td>36.0</td>\n",
       "      <td>21.0</td>\n",
       "      <td>42.51727</td>\n",
       "      <td>22.000000</td>\n",
       "      <td>90.0</td>\n",
       "      <td>4</td>\n",
       "      <td>2</td>\n",
       "    </tr>\n",
       "  </tbody>\n",
       "</table>\n",
       "</div>"
      ],
      "text/plain": [
       "       tanggal  stasiun  pm10   so2    co        o3        no2   max  \\\n",
       "857 2021-12-31       50  64.0  21.0  44.0  17.00000  19.537318  64.0   \n",
       "795 2021-12-31       48  62.0  52.0  23.0  20.00000  14.000000  85.0   \n",
       "826 2021-12-31       49  61.0  33.0  23.0  37.00000  44.000000  85.0   \n",
       "919 2021-12-31       52  60.0  28.0  19.0  30.00000  53.000000  87.0   \n",
       "888 2021-12-31       51  58.0  36.0  21.0  42.51727  22.000000  90.0   \n",
       "\n",
       "     critical  categori  \n",
       "857         3         2  \n",
       "795         4         2  \n",
       "826         4         2  \n",
       "919         4         2  \n",
       "888         4         2  "
      ]
     },
     "execution_count": 34,
     "metadata": {},
     "output_type": "execute_result"
    }
   ],
   "source": [
    "data.tail()"
   ]
  },
  {
   "attachments": {},
   "cell_type": "markdown",
   "metadata": {},
   "source": [
    "seluruh data sudah memiliki nilai bukan NaN"
   ]
  },
  {
   "cell_type": "code",
   "execution_count": 68,
   "metadata": {},
   "outputs": [],
   "source": [
    "# Normalisasi data dengan MinMaxScaler\n",
    "scaler = MinMaxScaler()\n",
    "data[['pm10', 'so2', 'co', 'o3', 'no2', 'max', 'critical']] = scaler.fit_transform(data[['pm10', 'so2', 'co', 'o3', 'no2', 'max', 'critical']])\n",
    "series = data['pm10'].values"
   ]
  },
  {
   "cell_type": "code",
   "execution_count": 71,
   "metadata": {},
   "outputs": [
    {
     "name": "stdout",
     "output_type": "stream",
     "text": [
      "0.1\n"
     ]
    }
   ],
   "source": [
    "# Menghitung threshold_mae\n",
    "threshold_mae = (data['pm10'].max() - data['pm10'].min()) * 10/100\n",
    "print(threshold_mae)"
   ]
  },
  {
   "cell_type": "code",
   "execution_count": 72,
   "metadata": {},
   "outputs": [],
   "source": [
    "def windowed_dataset(series, window_size, batch_size, shuffle_buffer):\n",
    "    series = tf.expand_dims(series, axis=-1)\n",
    "    ds = tf.data.Dataset.from_tensor_slices(series)\n",
    "    ds = ds.window(window_size + 1, shift=1, drop_remainder=True)\n",
    "    ds = ds.flat_map(lambda w: w.batch(window_size + 1))\n",
    "    ds = ds.shuffle(shuffle_buffer)\n",
    "    ds = ds.map(lambda w: (w[:-1], w[1:]))\n",
    "    return ds.batch(batch_size).prefetch(1)"
   ]
  },
  {
   "cell_type": "code",
   "execution_count": 73,
   "metadata": {},
   "outputs": [],
   "source": [
    "# Membagi data menjadi train dan test\n",
    "split_time = int(len(series) * 0.8)\n",
    "x_train = series[:split_time]\n",
    "x_test = series[split_time:]"
   ]
  },
  {
   "cell_type": "code",
   "execution_count": 74,
   "metadata": {},
   "outputs": [],
   "source": [
    "WINDOW_SIZE = 20\n",
    "BATCH_SIZE = 32\n",
    "SHUFFLE_BUFFER = 1000\n",
    "\n",
    "# Membuat windowed dataset\n",
    "train_set = windowed_dataset(x_train, WINDOW_SIZE, BATCH_SIZE, SHUFFLE_BUFFER)"
   ]
  },
  {
   "cell_type": "code",
   "execution_count": 75,
   "metadata": {},
   "outputs": [],
   "source": [
    "model = tf.keras.models.Sequential([\n",
    "  tf.keras.layers.LSTM(60, return_sequences=True),\n",
    "  tf.keras.layers.LSTM(60),\n",
    "  tf.keras.layers.Dense(30, activation=\"relu\"),\n",
    "  tf.keras.layers.Dropout(0.5),\n",
    "  tf.keras.layers.Dense(10, activation=\"relu\"),\n",
    "  tf.keras.layers.Dense(1)\n",
    "])"
   ]
  },
  {
   "cell_type": "code",
   "execution_count": 76,
   "metadata": {},
   "outputs": [],
   "source": [
    "class myCallback(tf.keras.callbacks.Callback):\n",
    "  def on_epoch_end(self, epoch, logs={}):\n",
    "    if(logs.get('mae')<0.1):\n",
    "      print(\"\\nTraining Selesai\")\n",
    "      self.model.stop_training = True\n",
    "callbacks = myCallback()"
   ]
  },
  {
   "cell_type": "code",
   "execution_count": 77,
   "metadata": {},
   "outputs": [
    {
     "name": "stderr",
     "output_type": "stream",
     "text": [
      "WARNING:absl:`lr` is deprecated in Keras optimizer, please use `learning_rate` or use the legacy optimizer, e.g.,tf.keras.optimizers.legacy.SGD.\n"
     ]
    },
    {
     "name": "stdout",
     "output_type": "stream",
     "text": [
      "Epoch 1/100\n",
      "90/90 [==============================] - 20s 57ms/step - loss: 0.0097 - mae: 0.1069\n",
      "Epoch 2/100\n",
      "90/90 [==============================] - ETA: 0s - loss: 0.0057 - mae: 0.0801\n",
      "Training Selesai\n",
      "90/90 [==============================] - 5s 54ms/step - loss: 0.0057 - mae: 0.0801\n"
     ]
    }
   ],
   "source": [
    "optimizer = tf.keras.optimizers.SGD(lr=1.0000e-04, momentum=0.9)\n",
    "model.compile(loss=tf.keras.losses.Huber(),\n",
    "              optimizer=optimizer,\n",
    "              metrics=[\"mae\"])\n",
    "history = model.fit(train_set,epochs=100, callbacks=[callbacks])"
   ]
  },
  {
   "cell_type": "code",
   "execution_count": 79,
   "metadata": {},
   "outputs": [
    {
     "data": {
      "image/png": "[encoded data removed]",
      "text/plain": [
       "<Figure size 864x288 with 2 Axes>"
      ]
     },
     "metadata": {
      "needs_background": "light"
     },
     "output_type": "display_data"
    },
    {
     "name": "stdout",
     "output_type": "stream",
     "text": [
      "Threshold MAE: 0.1\n"
     ]
    }
   ],
   "source": [
    "# Plot loss dan akurasi\n",
    "plt.figure(figsize=(12, 4))\n",
    "\n",
    "plt.subplot(1, 2, 1)\n",
    "plt.plot(history.history['loss'], label='Loss')\n",
    "plt.title('Loss')\n",
    "plt.legend()\n",
    "\n",
    "plt.subplot(1, 2, 2)\n",
    "plt.plot(history.history['mae'], label='MAE')\n",
    "plt.axhline(y=threshold_mae, color='r', linestyle='--', label='Threshold MAE')\n",
    "plt.title('MAE')\n",
    "plt.legend()\n",
    "\n",
    "plt.tight_layout()\n",
    "plt.show()\n",
    "\n",
    "print(f\"Threshold MAE: {threshold_mae}\")"
   ]
  }
 ],
 "metadata": {
  "kernelspec": {
   "display_name": "Python 3",
   "language": "python",
   "name": "python3"
  },
  "language_info": {
   "codemirror_mode": {
    "name": "ipython",
    "version": 3
   },
   "file_extension": ".py",
   "mimetype": "text/x-python",
   "name": "python",
   "nbconvert_exporter": "python",
   "pygments_lexer": "ipython3",
   "version": "3.10.2"
  },
  "orig_nbformat": 4,
  "vscode": {
   "interpreter": {
    "hash": "64eec9d900e617904d1dd7533407d8d40fb3ff0449fd37727dc0eaf92093004f"
   }
  }
 },
 "nbformat": 4,
 "nbformat_minor": 2
}
